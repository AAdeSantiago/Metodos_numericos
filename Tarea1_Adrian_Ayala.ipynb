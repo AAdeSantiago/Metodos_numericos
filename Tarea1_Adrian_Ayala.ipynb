{
 "cells": [
  {
   "cell_type": "markdown",
   "metadata": {},
   "source": [
    "## <center>Tarea 1</center></h1></center>"
   ]
  },
  {
   "cell_type": "markdown",
   "metadata": {},
   "source": [
    "#### <center> Ayala de Santiago Adrián</center></h1></center>"
   ]
  },
  {
   "cell_type": "markdown",
   "metadata": {},
   "source": [
    "**Pregunta 1.** Hacer un programa que transforme grados Celsius a grados Farenheit"
   ]
  },
  {
   "cell_type": "code",
   "execution_count": 1,
   "metadata": {},
   "outputs": [],
   "source": [
    "def celsius_farenheit(grados):\n",
    "    #Celsius a Farenheit\n",
    "    f = grados*(9/5)+32\n",
    "    return f"
   ]
  },
  {
   "cell_type": "code",
   "execution_count": 2,
   "metadata": {},
   "outputs": [
    {
     "data": {
      "text/plain": [
       "200.3"
      ]
     },
     "execution_count": 2,
     "metadata": {},
     "output_type": "execute_result"
    }
   ],
   "source": [
    "celsius_farenheit(93.5)"
   ]
  },
  {
   "cell_type": "markdown",
   "metadata": {},
   "source": [
    "***"
   ]
  },
  {
   "cell_type": "markdown",
   "metadata": {},
   "source": [
    "**Pregunta 11.** Hacer un programa que calcule la distancia entre dos puntos cualesquiera $(x_0,y_0,z_0)$ y $(x_1,y_1,z_1)$\n"
   ]
  },
  {
   "cell_type": "code",
   "execution_count": 3,
   "metadata": {},
   "outputs": [],
   "source": [
    "import numpy as np\n",
    "\n",
    "def distancia(x0,x1):\n",
    "        aux = 0\n",
    "        for i in range(len(x0)):\n",
    "            aux += (x1[i]-x0[i])**2\n",
    "        return np.sqrt(aux)    "
   ]
  },
  {
   "cell_type": "code",
   "execution_count": 4,
   "metadata": {},
   "outputs": [
    {
     "data": {
      "text/plain": [
       "4.242640687119285"
      ]
     },
     "execution_count": 4,
     "metadata": {},
     "output_type": "execute_result"
    }
   ],
   "source": [
    "x0 = np.array([2,3,1])\n",
    "x1 = np.array([1,2,5])\n",
    "\n",
    "distancia(x0,x1)"
   ]
  },
  {
   "cell_type": "markdown",
   "metadata": {},
   "source": [
    "***"
   ]
  },
  {
   "cell_type": "markdown",
   "metadata": {},
   "source": [
    "**Pregunta 15.** Hacer un programa que calcule el factorial de un número dado $n$ "
   ]
  },
  {
   "cell_type": "code",
   "execution_count": 5,
   "metadata": {},
   "outputs": [],
   "source": [
    "def factorial(n):\n",
    "    a='Ingrese un entero positivo menor que 20'\n",
    "    if(n>20 or n<0):\n",
    "        return a       \n",
    "    elif(n==0):\n",
    "        return (1)\n",
    "    else:\n",
    "        fac=1\n",
    "        for i in range(1,n+1):\n",
    "            fac *= i\n",
    "        return fac"
   ]
  },
  {
   "cell_type": "code",
   "execution_count": 6,
   "metadata": {},
   "outputs": [
    {
     "name": "stdout",
     "output_type": "stream",
     "text": [
      "Ingrese un entero positivo menor que 20\n",
      "Ingrese un entero positivo menor que 20\n",
      "120\n",
      "1\n"
     ]
    }
   ],
   "source": [
    "print(factorial(22))\n",
    "print(factorial(-2))\n",
    "print(factorial(5))\n",
    "print(factorial(0))"
   ]
  },
  {
   "cell_type": "markdown",
   "metadata": {},
   "source": [
    "***"
   ]
  },
  {
   "cell_type": "markdown",
   "metadata": {},
   "source": [
    "**Pregunta 16.** Dados los conjuntos  $(i,j,k)=\\{0,\\dots (i,j,k)\\}$ y $n$ natural,  escribir un programa que imprima todas las coordenadas posibles $(i,j,k)$ tal que $n\\neq i+j+k$."
   ]
  },
  {
   "cell_type": "code",
   "execution_count": 7,
   "metadata": {},
   "outputs": [],
   "source": [
    "def combinaciones(x,y,z,n):\n",
    "    comb = [[i , j, k] for i in range(x+1) for j in range(y+1) for k in range(z+1) if (i+j+k!=n)]\n",
    "    return comb"
   ]
  },
  {
   "cell_type": "code",
   "execution_count": 8,
   "metadata": {},
   "outputs": [
    {
     "data": {
      "text/plain": [
       "[[0, 0, 0],\n",
       " [0, 0, 1],\n",
       " [0, 0, 2],\n",
       " [0, 1, 0],\n",
       " [0, 1, 1],\n",
       " [0, 1, 2],\n",
       " [1, 0, 0],\n",
       " [1, 0, 1],\n",
       " [1, 0, 2],\n",
       " [1, 1, 0],\n",
       " [1, 1, 1],\n",
       " [2, 0, 0],\n",
       " [2, 0, 1],\n",
       " [2, 1, 0],\n",
       " [2, 1, 2]]"
      ]
     },
     "execution_count": 8,
     "metadata": {},
     "output_type": "execute_result"
    }
   ],
   "source": [
    "combinaciones(2,1,2,4)"
   ]
  },
  {
   "cell_type": "markdown",
   "metadata": {},
   "source": [
    "***"
   ]
  },
  {
   "cell_type": "markdown",
   "metadata": {},
   "source": [
    "**Pregunta 19.** Este patrón se puede ver como una matriz con dimensiones $(2n-1)\\times (4n-3)$, aunque basta realizar el patrón para una matriz reducida de $n\\times \\frac{(4n-3)}{2}$ y luego trasladarla al resto de la matriz original."
   ]
  },
  {
   "cell_type": "code",
   "execution_count": 1,
   "metadata": {},
   "outputs": [],
   "source": [
    "import numpy as np\n",
    "def pattern(n):\n",
    "    \n",
    "    renglon = 2*n-1    #numero de renglones\n",
    "    col = 4*n-3    #numero de columnas\n",
    "    \n",
    "    x = np.empty((renglon,col),dtype='str')    #arreglo que contiene el patron\n",
    "    x[:]='-'    #Se inicializa con '-' en todas las entradas\n",
    "\n",
    "    a=97    #chr(97)='a'\n",
    "    letras=np.array([chr(c) for c in range(a, a+n)])    #arreglo que contiene las letras del patrón\n",
    "    letras = letras[::-1]   #Se invierte el orden de las letras   \n",
    "    \n",
    "    index = np.arange(0,col//2+1,2)    #arreglo que contiene los indices de las letras\n",
    "\n",
    "    for i in range(n):    #se reemplazan las filas de x con el patrón en orden descendente\n",
    "        np.put(x[i], index[-1-i:],letras)\n",
    "\n",
    "    for j in range(col//2):    #Se copian las columnas en reflejo\n",
    "        x[:,-j*2-1] = x[:,2*j]\n",
    "\n",
    "\n",
    "    for p in range(renglon//2):    #Se copian los renglones\n",
    "        x[-p-1] = x[p]\n",
    "    \n",
    "    \n",
    "    for h in x:     #Impresión del patrón\n",
    "        print(''.join(map(str, h)))\n"
   ]
  },
  {
   "cell_type": "code",
   "execution_count": 11,
   "metadata": {},
   "outputs": [
    {
     "name": "stdout",
     "output_type": "stream",
     "text": [
      "------------------------------------------------y------------------------------------------------\n",
      "----------------------------------------------y-x-y----------------------------------------------\n",
      "--------------------------------------------y-x-w-x-y--------------------------------------------\n",
      "------------------------------------------y-x-w-v-w-x-y------------------------------------------\n",
      "----------------------------------------y-x-w-v-u-v-w-x-y----------------------------------------\n",
      "--------------------------------------y-x-w-v-u-t-u-v-w-x-y--------------------------------------\n",
      "------------------------------------y-x-w-v-u-t-s-t-u-v-w-x-y------------------------------------\n",
      "----------------------------------y-x-w-v-u-t-s-r-s-t-u-v-w-x-y----------------------------------\n",
      "--------------------------------y-x-w-v-u-t-s-r-q-r-s-t-u-v-w-x-y--------------------------------\n",
      "------------------------------y-x-w-v-u-t-s-r-q-p-q-r-s-t-u-v-w-x-y------------------------------\n",
      "----------------------------y-x-w-v-u-t-s-r-q-p-o-p-q-r-s-t-u-v-w-x-y----------------------------\n",
      "--------------------------y-x-w-v-u-t-s-r-q-p-o-n-o-p-q-r-s-t-u-v-w-x-y--------------------------\n",
      "------------------------y-x-w-v-u-t-s-r-q-p-o-n-m-n-o-p-q-r-s-t-u-v-w-x-y------------------------\n",
      "----------------------y-x-w-v-u-t-s-r-q-p-o-n-m-l-m-n-o-p-q-r-s-t-u-v-w-x-y----------------------\n",
      "--------------------y-x-w-v-u-t-s-r-q-p-o-n-m-l-k-l-m-n-o-p-q-r-s-t-u-v-w-x-y--------------------\n",
      "------------------y-x-w-v-u-t-s-r-q-p-o-n-m-l-k-j-k-l-m-n-o-p-q-r-s-t-u-v-w-x-y------------------\n",
      "----------------y-x-w-v-u-t-s-r-q-p-o-n-m-l-k-j-i-j-k-l-m-n-o-p-q-r-s-t-u-v-w-x-y----------------\n",
      "--------------y-x-w-v-u-t-s-r-q-p-o-n-m-l-k-j-i-h-i-j-k-l-m-n-o-p-q-r-s-t-u-v-w-x-y--------------\n",
      "------------y-x-w-v-u-t-s-r-q-p-o-n-m-l-k-j-i-h-g-h-i-j-k-l-m-n-o-p-q-r-s-t-u-v-w-x-y------------\n",
      "----------y-x-w-v-u-t-s-r-q-p-o-n-m-l-k-j-i-h-g-f-g-h-i-j-k-l-m-n-o-p-q-r-s-t-u-v-w-x-y----------\n",
      "--------y-x-w-v-u-t-s-r-q-p-o-n-m-l-k-j-i-h-g-f-e-f-g-h-i-j-k-l-m-n-o-p-q-r-s-t-u-v-w-x-y--------\n",
      "------y-x-w-v-u-t-s-r-q-p-o-n-m-l-k-j-i-h-g-f-e-d-e-f-g-h-i-j-k-l-m-n-o-p-q-r-s-t-u-v-w-x-y------\n",
      "----y-x-w-v-u-t-s-r-q-p-o-n-m-l-k-j-i-h-g-f-e-d-c-d-e-f-g-h-i-j-k-l-m-n-o-p-q-r-s-t-u-v-w-x-y----\n",
      "--y-x-w-v-u-t-s-r-q-p-o-n-m-l-k-j-i-h-g-f-e-d-c-b-c-d-e-f-g-h-i-j-k-l-m-n-o-p-q-r-s-t-u-v-w-x-y--\n",
      "y-x-w-v-u-t-s-r-q-p-o-n-m-l-k-j-i-h-g-f-e-d-c-b-a-b-c-d-e-f-g-h-i-j-k-l-m-n-o-p-q-r-s-t-u-v-w-x-y\n",
      "--y-x-w-v-u-t-s-r-q-p-o-n-m-l-k-j-i-h-g-f-e-d-c-b-c-d-e-f-g-h-i-j-k-l-m-n-o-p-q-r-s-t-u-v-w-x-y--\n",
      "----y-x-w-v-u-t-s-r-q-p-o-n-m-l-k-j-i-h-g-f-e-d-c-d-e-f-g-h-i-j-k-l-m-n-o-p-q-r-s-t-u-v-w-x-y----\n",
      "------y-x-w-v-u-t-s-r-q-p-o-n-m-l-k-j-i-h-g-f-e-d-e-f-g-h-i-j-k-l-m-n-o-p-q-r-s-t-u-v-w-x-y------\n",
      "--------y-x-w-v-u-t-s-r-q-p-o-n-m-l-k-j-i-h-g-f-e-f-g-h-i-j-k-l-m-n-o-p-q-r-s-t-u-v-w-x-y--------\n",
      "----------y-x-w-v-u-t-s-r-q-p-o-n-m-l-k-j-i-h-g-f-g-h-i-j-k-l-m-n-o-p-q-r-s-t-u-v-w-x-y----------\n",
      "------------y-x-w-v-u-t-s-r-q-p-o-n-m-l-k-j-i-h-g-h-i-j-k-l-m-n-o-p-q-r-s-t-u-v-w-x-y------------\n",
      "--------------y-x-w-v-u-t-s-r-q-p-o-n-m-l-k-j-i-h-i-j-k-l-m-n-o-p-q-r-s-t-u-v-w-x-y--------------\n",
      "----------------y-x-w-v-u-t-s-r-q-p-o-n-m-l-k-j-i-j-k-l-m-n-o-p-q-r-s-t-u-v-w-x-y----------------\n",
      "------------------y-x-w-v-u-t-s-r-q-p-o-n-m-l-k-j-k-l-m-n-o-p-q-r-s-t-u-v-w-x-y------------------\n",
      "--------------------y-x-w-v-u-t-s-r-q-p-o-n-m-l-k-l-m-n-o-p-q-r-s-t-u-v-w-x-y--------------------\n",
      "----------------------y-x-w-v-u-t-s-r-q-p-o-n-m-l-m-n-o-p-q-r-s-t-u-v-w-x-y----------------------\n",
      "------------------------y-x-w-v-u-t-s-r-q-p-o-n-m-n-o-p-q-r-s-t-u-v-w-x-y------------------------\n",
      "--------------------------y-x-w-v-u-t-s-r-q-p-o-n-o-p-q-r-s-t-u-v-w-x-y--------------------------\n",
      "----------------------------y-x-w-v-u-t-s-r-q-p-o-p-q-r-s-t-u-v-w-x-y----------------------------\n",
      "------------------------------y-x-w-v-u-t-s-r-q-p-q-r-s-t-u-v-w-x-y------------------------------\n",
      "--------------------------------y-x-w-v-u-t-s-r-q-r-s-t-u-v-w-x-y--------------------------------\n",
      "----------------------------------y-x-w-v-u-t-s-r-s-t-u-v-w-x-y----------------------------------\n",
      "------------------------------------y-x-w-v-u-t-s-t-u-v-w-x-y------------------------------------\n",
      "--------------------------------------y-x-w-v-u-t-u-v-w-x-y--------------------------------------\n",
      "----------------------------------------y-x-w-v-u-v-w-x-y----------------------------------------\n",
      "------------------------------------------y-x-w-v-w-x-y------------------------------------------\n",
      "--------------------------------------------y-x-w-x-y--------------------------------------------\n",
      "----------------------------------------------y-x-y----------------------------------------------\n",
      "------------------------------------------------y------------------------------------------------\n"
     ]
    }
   ],
   "source": [
    "pattern(25)"
   ]
  }
 ],
 "metadata": {
  "kernelspec": {
   "display_name": "Python 3",
   "language": "python",
   "name": "python3"
  },
  "language_info": {
   "codemirror_mode": {
    "name": "ipython",
    "version": 3
   },
   "file_extension": ".py",
   "mimetype": "text/x-python",
   "name": "python",
   "nbconvert_exporter": "python",
   "pygments_lexer": "ipython3",
   "version": "3.7.3"
  }
 },
 "nbformat": 4,
 "nbformat_minor": 2
}
