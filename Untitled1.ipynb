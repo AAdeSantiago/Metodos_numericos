{
 "cells": [
  {
   "cell_type": "code",
   "execution_count": 2,
   "metadata": {},
   "outputs": [
    {
     "name": "stdout",
     "output_type": "stream",
     "text": [
      "texto de ejemplo\n",
      "Texto de ejemplo\n",
      "texto de ejemplo\n",
      "\n"
     ]
    }
   ],
   "source": [
    "print(\"texto de ejemplo\")\n",
    "print(\"texto de ejemplo\".capitalize())\n",
    "print(\"TexTo de ejemplo\".casefold())\n",
    "print(''.upper())"
   ]
  },
  {
   "cell_type": "code",
   "execution_count": 7,
   "metadata": {},
   "outputs": [
    {
     "name": "stdout",
     "output_type": "stream",
     "text": [
      "4\n"
     ]
    }
   ],
   "source": [
    "txt_ex = \"Texto de ejemplo\"\n",
    "print(txt_ex.count('e'))"
   ]
  },
  {
   "cell_type": "code",
   "execution_count": 9,
   "metadata": {},
   "outputs": [
    {
     "name": "stdout",
     "output_type": "stream",
     "text": [
      "True\n",
      "True\n",
      "m_u_e_r_c_i_e_l_a_g_o\n",
      "['Texto', 'de', 'ejemplo']\n",
      "['T', 'xto d', ' ', 'j', 'mplo']\n",
      "['', 'exto de ejemplo']\n",
      "Texto de ejemplo\n",
      "5-25\n",
      "5-25\n",
      "1,000,000\n",
      "ejemplo de Texto\n",
      "Texto de ejemplo\n"
     ]
    }
   ],
   "source": [
    "print(\"Texto de ejemplo\".endswith('o'))\n",
    "print(\"Texto de ejemplo\".startswith('Texto de'))\n",
    "print(\"_\".join('muercielago'))\n",
    "print(\"Texto de ejemplo\".split(' '))\n",
    "print(\"Texto de ejemplo\".split('e'))\n",
    "print(\"Texto de ejemplo\".split('T'))\n",
    "print(\"Texto de {}\".format('ejemplo'))\n",
    "print(f\"{5}-{5*5}\")\n",
    "print(\"{}-{}\".format(5, 5*5))\n",
    "print(\"{:,.0f}\".format(1000000.354346))\n",
    "print(\"{1} {2} {0}\".format('Texto', 'ejemplo', 'de'))\n",
    "print(\"Texto de %(test)s\" % {'test':'ejemplo'})"
   ]
  },
  {
   "cell_type": "code",
   "execution_count": 12,
   "metadata": {},
   "outputs": [
    {
     "name": "stdout",
     "output_type": "stream",
     "text": [
      "True\n",
      "True\n",
      "True\n",
      "False\n",
      "True\n",
      "True\n",
      "True\n",
      "True\n",
      "[2, 1, 2, 3]\n",
      "[2, 2, 2, 1, 2, 3]\n",
      "[1, 2, 3, 1, 2, 3]\n",
      "Hola Mundo Carlos\n",
      "6\n"
     ]
    }
   ],
   "source": [
    "print(2 in [1, 2, 3])\n",
    "print(2 in (1, 2, 3))\n",
    "print(2 in range(5))\n",
    "print(2 not in [1, 2, 3])\n",
    "print(5 not in [1, 2, 3])\n",
    "print( 'o' in 'Hola Mundo')\n",
    "print('e' not in 'Hola Mundo')\n",
    "print('Hola' in 'Hola Mundo')\n",
    "print([2] + [1, 2, 3])\n",
    "print([2, 2, 2] + [1, 2, 3])\n",
    "print(2 * [1, 2, 3])\n",
    "#print(1.4 * (1, 2, 3))\n",
    "print('Hola Mundo ' + 'Carlos')\n",
    "print([1, 2, 3, 4, 5, 6, 7 ,8, 9, 10][5])"
   ]
  },
  {
   "cell_type": "code",
   "execution_count": 13,
   "metadata": {},
   "outputs": [
    {
     "name": "stdout",
     "output_type": "stream",
     "text": [
      "u\n"
     ]
    }
   ],
   "source": [
    "print('Hola Mundo'[6])"
   ]
  },
  {
   "cell_type": "code",
   "execution_count": 14,
   "metadata": {},
   "outputs": [
    {
     "name": "stdout",
     "output_type": "stream",
     "text": [
      "[1, 2, 3, 4, 5, 6, 7, 8, 9, 10]\n",
      "[1, 3, 5]\n"
     ]
    }
   ],
   "source": [
    "print([1, 2, 3, 4, 5, 6, 7 ,8, 9, 10][:])\n",
    "\n",
    "print([1, 2, 3, 4, 5, 6, 7 ,8, 9, 10][0:6:2])"
   ]
  },
  {
   "cell_type": "code",
   "execution_count": 15,
   "metadata": {},
   "outputs": [
    {
     "name": "stdout",
     "output_type": "stream",
     "text": [
      "[1, 3, 5, 7, 9]\n"
     ]
    }
   ],
   "source": [
    "print([1, 2, 3, 4, 5, 6, 7 ,8, 9, 10][::2])"
   ]
  },
  {
   "cell_type": "code",
   "execution_count": 16,
   "metadata": {},
   "outputs": [
    {
     "name": "stdout",
     "output_type": "stream",
     "text": [
      "10\n"
     ]
    }
   ],
   "source": [
    "print([1, 2, 3, 4, 5, 6, 7 ,8, 9, 10][-1])"
   ]
  },
  {
   "cell_type": "code",
   "execution_count": 19,
   "metadata": {},
   "outputs": [
    {
     "name": "stdout",
     "output_type": "stream",
     "text": [
      "[10, 9, 8, 7, 6]\n"
     ]
    }
   ],
   "source": [
    "#print([1, 2, 3, 4, 5, 6, 7 ,8, 9, 10][-10])\n",
    "\n",
    "#print([1, 2, 3, 4, 5, 6, 7 ,8, 9, 10][-11])\n",
    "\n",
    "print([1, 2, 3, 4, 5, 6, 7 ,8, 9, 10][9:4:-1])"
   ]
  },
  {
   "cell_type": "code",
   "execution_count": 22,
   "metadata": {},
   "outputs": [
    {
     "data": {
      "text/plain": [
       "range(1, 11)"
      ]
     },
     "execution_count": 22,
     "metadata": {},
     "output_type": "execute_result"
    }
   ],
   "source": [
    "range(1,11)[::-1]"
   ]
  },
  {
   "cell_type": "code",
   "execution_count": 24,
   "metadata": {},
   "outputs": [
    {
     "name": "stdout",
     "output_type": "stream",
     "text": [
      "10\n",
      "9\n",
      "8\n",
      "7\n",
      "6\n",
      "5\n",
      "4\n",
      "3\n",
      "2\n",
      "1\n"
     ]
    }
   ],
   "source": [
    "for i in range(1,11)[::-1]:\n",
    "    print(i)"
   ]
  },
  {
   "cell_type": "code",
   "execution_count": 26,
   "metadata": {},
   "outputs": [
    {
     "name": "stdout",
     "output_type": "stream",
     "text": [
      " \n"
     ]
    }
   ],
   "source": [
    "print(min('Hola Mundo'))\n",
    "\n",
    "#print(max('Hola Mundo'))"
   ]
  },
  {
   "cell_type": "code",
   "execution_count": null,
   "metadata": {},
   "outputs": [],
   "source": []
  }
 ],
 "metadata": {
  "kernelspec": {
   "display_name": "Python 3",
   "language": "python",
   "name": "python3"
  },
  "language_info": {
   "codemirror_mode": {
    "name": "ipython",
    "version": 3
   },
   "file_extension": ".py",
   "mimetype": "text/x-python",
   "name": "python",
   "nbconvert_exporter": "python",
   "pygments_lexer": "ipython3",
   "version": "3.7.3"
  }
 },
 "nbformat": 4,
 "nbformat_minor": 2
}
